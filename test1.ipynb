{
 "cells": [
  {
   "cell_type": "code",
   "execution_count": 8,
   "metadata": {},
   "outputs": [],
   "source": [
    "from langchain.chains.router import MultiPromptChain\n",
    "from langchain.chat_models import ChatOpenAI\n",
    "from langchain.chains import ConversationChain\n",
    "from langchain.chains.llm import LLMChain\n",
    "from langchain.prompts import PromptTemplate\n",
    "\n",
    "from langchain.chains.router.llm_router import LLMRouterChain, RouterOutputParser\n",
    "from langchain.chains.router.multi_prompt_prompt import MULTI_PROMPT_ROUTER_TEMPLATE\n",
    "\n",
    "from prompt_toolkit import HTML, prompt\n",
    "import langchain.callbacks\n",
    "\n",
    "\n",
    "class Config(): \n",
    "    model = 'gpt-3.5-turbo'\n",
    "    llm = ChatOpenAI(model=model)\n",
    "\n",
    "cfg = Config()\n",
    "\n",
    "\n",
    "prompt_infos = [\n",
    "    {\n",
    "        'name': 'data analysis',\n",
    "        'description': 'Good for questions about data analysis',\n",
    "    },\n",
    "    {\n",
    "        'name': 'future prediction',\n",
    "        'description': 'Good for questions about future prediction',\n",
    "    },\n",
    "    {\n",
    "        'name': 'general question answering',\n",
    "        'description': 'Good for general questions',\n",
    "    }\n",
    "]\n",
    "\n",
    "def create_model(llm):\n",
    "    \"\"\"\n",
    "    Generats the router chains from the prompt infos.\n",
    "    :param prompt_infos The prompt informations generated above.\n",
    "    \"\"\"\n",
    "    destinations = [f\"{p['name']}: {p['description']}\" for p in prompt_infos]\n",
    "    destinations_str = '\\n'.join(destinations)\n",
    "    router_template = MULTI_PROMPT_ROUTER_TEMPLATE.format(destinations=destinations_str)\n",
    "    router_prompt = PromptTemplate(\n",
    "        template=router_template,\n",
    "        input_variables=['input'],\n",
    "        output_parser=RouterOutputParser()\n",
    "    )\n",
    "    router_chain = LLMRouterChain.from_llm(llm, router_prompt)\n",
    "    return router_chain\n"
   ]
  },
  {
   "cell_type": "code",
   "execution_count": 10,
   "metadata": {},
   "outputs": [],
   "source": [
    "chain = create_model(ChatOpenAI(model=\"gpt-3.5-turbo\"))"
   ]
  },
  {
   "cell_type": "code",
   "execution_count": null,
   "metadata": {},
   "outputs": [],
   "source": []
  }
 ],
 "metadata": {
  "kernelspec": {
   "display_name": "aide",
   "language": "python",
   "name": "python3"
  },
  "language_info": {
   "codemirror_mode": {
    "name": "ipython",
    "version": 3
   },
   "file_extension": ".py",
   "mimetype": "text/x-python",
   "name": "python",
   "nbconvert_exporter": "python",
   "pygments_lexer": "ipython3",
   "version": "3.10.13"
  }
 },
 "nbformat": 4,
 "nbformat_minor": 2
}
